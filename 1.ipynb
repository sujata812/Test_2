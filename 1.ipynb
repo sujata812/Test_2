{
 "cells": [
  {
   "cell_type": "code",
   "execution_count": 1,
   "id": "87529b21",
   "metadata": {},
   "outputs": [],
   "source": [
    "import pandas as pd\n",
    "import numpy as np"
   ]
  },
  {
   "cell_type": "code",
   "execution_count": 4,
   "id": "979b1621",
   "metadata": {},
   "outputs": [],
   "source": [
    "def hello_func():\n",
    "    print('Hello function.')\n"
   ]
  },
  {
   "cell_type": "code",
   "execution_count": 5,
   "id": "8d761837",
   "metadata": {},
   "outputs": [
    {
     "name": "stdout",
     "output_type": "stream",
     "text": [
      "Hello function.\n",
      "None\n"
     ]
    }
   ],
   "source": [
    "print(hello_func())"
   ]
  },
  {
   "cell_type": "code",
   "execution_count": 11,
   "id": "f98cd03a",
   "metadata": {},
   "outputs": [
    {
     "name": "stdout",
     "output_type": "stream",
     "text": [
      "Hello function.\n",
      "i:  None\n",
      "Hello function.\n",
      "i:  None\n",
      "Hello function.\n",
      "i:  None\n",
      "Hello function.\n",
      "i:  None\n"
     ]
    }
   ],
   "source": [
    "for i in range (1,5):\n",
    "    print('i: ',hello_func())"
   ]
  },
  {
   "cell_type": "code",
   "execution_count": 12,
   "id": "201072bc",
   "metadata": {},
   "outputs": [],
   "source": [
    "# if you don't want none to be printed\n",
    "def greet():\n",
    "    return 'Hello World!'\n"
   ]
  },
  {
   "cell_type": "code",
   "execution_count": 13,
   "id": "8cdc8d9f",
   "metadata": {},
   "outputs": [
    {
     "name": "stdout",
     "output_type": "stream",
     "text": [
      "Hello World!\n"
     ]
    }
   ],
   "source": [
    "print(greet())"
   ]
  },
  {
   "cell_type": "code",
   "execution_count": 18,
   "id": "b96b7aca",
   "metadata": {},
   "outputs": [
    {
     "name": "stdout",
     "output_type": "stream",
     "text": [
      "i: Hello World!\n",
      "\n",
      "i: Hello World!\n",
      "\n",
      "i: Hello World!\n",
      "\n",
      "i: Hello World!\n",
      "\n",
      "i: Hello World!\n",
      "\n"
     ]
    }
   ],
   "source": [
    "for i in range (5):\n",
    "    print('i:',greet(),end='\\n\\n')"
   ]
  },
  {
   "cell_type": "code",
   "execution_count": 25,
   "id": "48c92805",
   "metadata": {},
   "outputs": [],
   "source": [
    "def average(number:list):\n",
    "    n=len(number)\n",
    "    sum=0\n",
    "    for i in number:\n",
    "        sum+=i\n",
    "    avg=sum/n\n",
    "    return avg"
   ]
  },
  {
   "cell_type": "code",
   "execution_count": 26,
   "id": "f3765e4a",
   "metadata": {},
   "outputs": [
    {
     "name": "stdout",
     "output_type": "stream",
     "text": [
      "12.5\n"
     ]
    }
   ],
   "source": [
    "print(average([10,11,12,13,14,15]))"
   ]
  },
  {
   "cell_type": "code",
   "execution_count": 30,
   "id": "84d7a121",
   "metadata": {},
   "outputs": [],
   "source": [
    "def compare(number:list):\n",
    "    n=len(number)\n",
    "    if number[0]==number[-1]:\n",
    "        return True\n",
    "    else:\n",
    "        return False"
   ]
  },
  {
   "cell_type": "code",
   "execution_count": 31,
   "id": "6407007c",
   "metadata": {},
   "outputs": [
    {
     "name": "stdout",
     "output_type": "stream",
     "text": [
      "False\n"
     ]
    }
   ],
   "source": [
    "print(compare([10,11,12,13]))"
   ]
  },
  {
   "cell_type": "code",
   "execution_count": 32,
   "id": "78c3f108",
   "metadata": {},
   "outputs": [
    {
     "name": "stdout",
     "output_type": "stream",
     "text": [
      "True\n"
     ]
    }
   ],
   "source": [
    "print(compare([10,11,12,13,10]))"
   ]
  },
  {
   "cell_type": "code",
   "execution_count": 34,
   "id": "54fd115e",
   "metadata": {},
   "outputs": [
    {
     "name": "stdout",
     "output_type": "stream",
     "text": [
      "Sujata\n"
     ]
    }
   ],
   "source": [
    "profile={'name':'Sujata','surname':'Pradhan'}\n",
    "print(profile['name'])"
   ]
  },
  {
   "cell_type": "code",
   "execution_count": 35,
   "id": "861ced6e",
   "metadata": {},
   "outputs": [
    {
     "name": "stdout",
     "output_type": "stream",
     "text": [
      "['Sujata', 'Surendra']\n"
     ]
    }
   ],
   "source": [
    "profile={'name':['Sujata','Surendra'],'surname':['Pradhan','Maharjan']}\n",
    "print(profile['name'])"
   ]
  },
  {
   "cell_type": "code",
   "execution_count": 36,
   "id": "c3ce30cd",
   "metadata": {},
   "outputs": [
    {
     "name": "stdout",
     "output_type": "stream",
     "text": [
      "<class 'dict'>\n"
     ]
    }
   ],
   "source": [
    "print(type(profile))"
   ]
  },
  {
   "cell_type": "code",
   "execution_count": 39,
   "id": "004f035a",
   "metadata": {},
   "outputs": [
    {
     "name": "stdout",
     "output_type": "stream",
     "text": [
      "<class 'numpy.ndarray'>\n"
     ]
    }
   ],
   "source": [
    "a=np.array([[1,2,3,4,5,6],[2,8,9,6,7,5]])\n",
    "print(type(a))"
   ]
  },
  {
   "cell_type": "code",
   "execution_count": 41,
   "id": "69ff5b8d",
   "metadata": {},
   "outputs": [
    {
     "data": {
      "text/plain": [
       "(2, 6)"
      ]
     },
     "execution_count": 41,
     "metadata": {},
     "output_type": "execute_result"
    }
   ],
   "source": [
    "np.shape(a)"
   ]
  },
  {
   "cell_type": "code",
   "execution_count": 42,
   "id": "97789cb4",
   "metadata": {},
   "outputs": [
    {
     "data": {
      "text/plain": [
       "2"
      ]
     },
     "execution_count": 42,
     "metadata": {},
     "output_type": "execute_result"
    }
   ],
   "source": [
    "np.ndim(a)"
   ]
  },
  {
   "cell_type": "code",
   "execution_count": 43,
   "id": "005f6f2d",
   "metadata": {},
   "outputs": [
    {
     "name": "stdout",
     "output_type": "stream",
     "text": [
      "(2, 6)\n"
     ]
    }
   ],
   "source": [
    "print(np.shape(a))"
   ]
  },
  {
   "cell_type": "code",
   "execution_count": null,
   "id": "a98b9d74",
   "metadata": {},
   "outputs": [],
   "source": []
  },
  {
   "cell_type": "markdown",
   "id": "5756644e",
   "metadata": {},
   "source": [
    "List"
   ]
  },
  {
   "cell_type": "code",
   "execution_count": 1,
   "id": "ea5ca332",
   "metadata": {},
   "outputs": [
    {
     "name": "stdout",
     "output_type": "stream",
     "text": [
      "<class 'list'>\n"
     ]
    }
   ],
   "source": [
    "l=[1,2,3,4,5,6]\n",
    "print(type(l))"
   ]
  },
  {
   "cell_type": "markdown",
   "id": "0293db95",
   "metadata": {},
   "source": [
    "#Tuple"
   ]
  },
  {
   "cell_type": "code",
   "execution_count": 2,
   "id": "f2eaedbc",
   "metadata": {},
   "outputs": [
    {
     "name": "stdout",
     "output_type": "stream",
     "text": [
      "<class 'tuple'>\n"
     ]
    }
   ],
   "source": [
    "T=(1,2,3,4,5,6)\n",
    "print(type(T))"
   ]
  },
  {
   "cell_type": "markdown",
   "id": "ed094ea7",
   "metadata": {},
   "source": [
    "Dictionary"
   ]
  },
  {
   "cell_type": "code",
   "execution_count": 3,
   "id": "e13b9764",
   "metadata": {},
   "outputs": [
    {
     "name": "stdout",
     "output_type": "stream",
     "text": [
      "<class 'dict'>\n"
     ]
    }
   ],
   "source": [
    "person={'Name':'Sujata','Surname':'Pradhan'}\n",
    "print(type(person))"
   ]
  },
  {
   "cell_type": "markdown",
   "id": "fb6a5583",
   "metadata": {},
   "source": [
    "Exercise"
   ]
  },
  {
   "cell_type": "code",
   "execution_count": 1,
   "id": "5eeab2d1",
   "metadata": {},
   "outputs": [],
   "source": [
    "# Given a positive integer x. Your task is to check, if it is even or odd (Any number that gives zero as remainder when divided by 2 is an even number)."
   ]
  },
  {
   "cell_type": "code",
   "execution_count": 7,
   "id": "2a704700",
   "metadata": {},
   "outputs": [
    {
     "name": "stdout",
     "output_type": "stream",
     "text": [
      "Odd\n"
     ]
    }
   ],
   "source": [
    "def CheckOddEven(x):\n",
    "    if x%2==0:\n",
    "        return 'Even'\n",
    "    else: \n",
    "        return 'Odd'\n",
    "\n",
    "print(CheckOddEven(1015))"
   ]
  },
  {
   "cell_type": "code",
   "execution_count": 6,
   "id": "fd86c2b7",
   "metadata": {},
   "outputs": [
    {
     "name": "stdout",
     "output_type": "stream",
     "text": [
      "1 Odd\n",
      "2 Even\n",
      "3 Odd\n",
      "4 Even\n",
      "5 Odd\n"
     ]
    }
   ],
   "source": [
    "def Check(number:list):\n",
    "    for i in number:\n",
    "        if i%2==0:\n",
    "            print(i,'Even')\n",
    "        else:\n",
    "            print(i,'Odd')\n",
    "\n",
    "Check([1,2,3,4,5])"
   ]
  },
  {
   "cell_type": "code",
   "execution_count": 11,
   "id": "f426b843",
   "metadata": {},
   "outputs": [],
   "source": [
    "# Given two integer variables a and b, and a boolean variable flag. The task is to check the status and return accordingly.\n",
    "\n",
    "# Return True for the following cases:\n",
    "\n",
    "# Either a or b (not both) is non-negative and the flag is false.\n",
    "# Both a and b are negative and the flag is true.\n",
    "# Otherwise, return False."
   ]
  },
  {
   "cell_type": "code",
   "execution_count": 16,
   "id": "90791de5",
   "metadata": {},
   "outputs": [
    {
     "name": "stdout",
     "output_type": "stream",
     "text": [
      "False\n"
     ]
    }
   ],
   "source": [
    "def checkValue(a,b,flag):\n",
    "    if ((a>=0 or b>=0) and flag==False):\n",
    "        return 'True'\n",
    "    elif ((a<0 or b<0) and flag==True):\n",
    "        return 'True'\n",
    "    else:\n",
    "        return 'False'\n",
    "    \n",
    "print(checkValue(1,1,True))"
   ]
  },
  {
   "cell_type": "code",
   "execution_count": 17,
   "id": "80195ef1",
   "metadata": {},
   "outputs": [],
   "source": [
    "# There are two friends, John and Smith, and the parameters j_angry and s_angry to indicate if each is angry. You are in trouble if both of them are angry or no one of them is angry.\n",
    "\n",
    "# Now, complete the function which returns true if you are in trouble, else return false"
   ]
  },
  {
   "cell_type": "code",
   "execution_count": 23,
   "id": "feccffcd",
   "metadata": {},
   "outputs": [
    {
     "name": "stdout",
     "output_type": "stream",
     "text": [
      "True\n",
      "False\n"
     ]
    }
   ],
   "source": [
    "def checkIfInTrouble(j_angry,s_angry):\n",
    "    if j_angry==True and s_angry==True:\n",
    "        return 'True'\n",
    "    elif j_angry==False and s_angry==False:\n",
    "        return 'True'\n",
    "    else:\n",
    "        return 'False'\n",
    "    \n",
    "print(checkIfInTrouble(True,True))\n",
    "print(checkIfInTrouble(True,False))"
   ]
  },
  {
   "cell_type": "code",
   "execution_count": 25,
   "id": "8a26483c",
   "metadata": {},
   "outputs": [
    {
     "ename": "TypeError",
     "evalue": "checkIfInTrouble() got an unexpected keyword argument 'j_angry'",
     "output_type": "error",
     "traceback": [
      "\u001b[1;31m---------------------------------------------------------------------------\u001b[0m",
      "\u001b[1;31mTypeError\u001b[0m                                 Traceback (most recent call last)",
      "Cell \u001b[1;32mIn[25], line 9\u001b[0m\n\u001b[0;32m      6\u001b[0m     \u001b[38;5;28;01melse\u001b[39;00m:\n\u001b[0;32m      7\u001b[0m         \u001b[38;5;28;01mreturn\u001b[39;00m \u001b[38;5;124m'\u001b[39m\u001b[38;5;124mFalse\u001b[39m\u001b[38;5;124m'\u001b[39m\n\u001b[1;32m----> 9\u001b[0m \u001b[38;5;28mprint\u001b[39m(checkIfInTrouble(j_angry\u001b[38;5;241m=\u001b[39m\u001b[38;5;28;01mTrue\u001b[39;00m,s_angry\u001b[38;5;241m=\u001b[39m\u001b[38;5;28;01mTrue\u001b[39;00m))\n\u001b[0;32m     10\u001b[0m \u001b[38;5;28mprint\u001b[39m(checkIfInTrouble(j_angry\u001b[38;5;241m=\u001b[39m\u001b[38;5;28;01mTrue\u001b[39;00m,s_angry\u001b[38;5;241m=\u001b[39m\u001b[38;5;28;01mFalse\u001b[39;00m))\n",
      "\u001b[1;31mTypeError\u001b[0m: checkIfInTrouble() got an unexpected keyword argument 'j_angry'"
     ]
    }
   ],
   "source": [
    "def checkIfInTrouble():\n",
    "    if j_angry==True and s_angry==True:\n",
    "        return 'True'\n",
    "    elif j_angry==False and s_angry==False:\n",
    "        return 'True'\n",
    "    else:\n",
    "        return 'False'\n",
    "    \n",
    "print(checkIfInTrouble(j_angry=True,s_angry=True))\n",
    "print(checkIfInTrouble(j_angry=True,s_angry=False))"
   ]
  },
  {
   "cell_type": "code",
   "execution_count": 1,
   "id": "1a6c703e",
   "metadata": {},
   "outputs": [],
   "source": [
    "# You are given a string str, you need to return True if  the words \"cat\" and \"hat\" appear same number of times in str, otherwise return False.\n",
    "# Note: str contains only lowercase English alphabets."
   ]
  },
  {
   "cell_type": "code",
   "execution_count": 7,
   "id": "ae685029",
   "metadata": {},
   "outputs": [
    {
     "name": "stdout",
     "output_type": "stream",
     "text": [
      "True\n"
     ]
    }
   ],
   "source": [
    "def cat_hat():\n",
    "    str=input().strip()   # to remove any white spaces\n",
    "    count_cat=str.count('cat')\n",
    "    count_hat=str.count('hat')\n",
    "    if count_cat==count_hat:\n",
    "        return True\n",
    "    \n",
    "print(cat_hat())\n"
   ]
  },
  {
   "cell_type": "code",
   "execution_count": 8,
   "id": "5e8b8859",
   "metadata": {},
   "outputs": [],
   "source": [
    "# You are given a number N, you need to print its multiplication table.\n",
    "\n",
    "# Note: Please go through the range function to understand why it's useful in for loops."
   ]
  },
  {
   "cell_type": "code",
   "execution_count": 19,
   "id": "16c9101f",
   "metadata": {},
   "outputs": [
    {
     "name": "stdout",
     "output_type": "stream",
     "text": [
      "[25, 50, 75, 100, 125, 150, 175, 200, 225, 250]\n"
     ]
    }
   ],
   "source": [
    "def multiplicationTable():\n",
    "    N=int(input('Enter a number: '))\n",
    "    l=[]\n",
    "    for i in range(1,11):\n",
    "        table=(i*N)\n",
    "        l.append(table)\n",
    "    return l\n",
    "    \n",
    "print(multiplicationTable())    "
   ]
  },
  {
   "cell_type": "code",
   "execution_count": 10,
   "id": "24f6dcee",
   "metadata": {},
   "outputs": [
    {
     "name": "stdout",
     "output_type": "stream",
     "text": [
      "<class 'str'>\n"
     ]
    }
   ],
   "source": [
    "a=str(5)\n",
    "print(type(a))"
   ]
  },
  {
   "cell_type": "code",
   "execution_count": 26,
   "id": "4fdf75c1",
   "metadata": {},
   "outputs": [
    {
     "name": "stdout",
     "output_type": "stream",
     "text": [
      "1 * 6 = 6\n",
      "2 * 6 = 12\n",
      "3 * 6 = 18\n",
      "4 * 6 = 24\n",
      "5 * 6 = 30\n",
      "6 * 6 = 36\n",
      "7 * 6 = 42\n",
      "8 * 6 = 48\n",
      "9 * 6 = 54\n",
      "10 * 6 = 60\n",
      "Table printed successfully\n"
     ]
    }
   ],
   "source": [
    "def multiplicationTable():\n",
    "    N=int(input('Enter a number: '))\n",
    "    for i in range(1,11):\n",
    "        table=(i*N)\n",
    "        print(i,'*',N,'=',table)\n",
    "    return 'Table printed successfully'\n",
    "    \n",
    "print(multiplicationTable())    "
   ]
  },
  {
   "cell_type": "code",
   "execution_count": 25,
   "id": "ec7d0032",
   "metadata": {},
   "outputs": [
    {
     "name": "stdout",
     "output_type": "stream",
     "text": [
      "1 * 6 = 6\n",
      "2 * 6 = 12\n",
      "3 * 6 = 18\n",
      "4 * 6 = 24\n",
      "5 * 6 = 30\n",
      "6 * 6 = 36\n",
      "7 * 6 = 42\n",
      "8 * 6 = 48\n",
      "9 * 6 = 54\n",
      "10 * 6 = 60\n"
     ]
    }
   ],
   "source": [
    "multiplicationTable()"
   ]
  },
  {
   "cell_type": "code",
   "execution_count": 27,
   "id": "4d94ff88",
   "metadata": {},
   "outputs": [],
   "source": [
    "# You are given a string s, you need to print its characters at even indices(index starts at 0).\n",
    "\n",
    "# Note: Please go through the range function to understand how to jump 2 steps."
   ]
  },
  {
   "cell_type": "code",
   "execution_count": 34,
   "id": "a541adb2",
   "metadata": {},
   "outputs": [
    {
     "name": "stdout",
     "output_type": "stream",
     "text": [
      "sjt"
     ]
    }
   ],
   "source": [
    "def stringJumper():\n",
    "    s=str(input('Enter a string: '))\n",
    "    n=len(s)\n",
    "    for i in range(0,n,2):\n",
    "        print(s[i],end='')\n",
    "\n",
    "stringJumper()"
   ]
  },
  {
   "cell_type": "code",
   "execution_count": 36,
   "id": "ca992a79",
   "metadata": {},
   "outputs": [],
   "source": [
    "# Use while loop\n",
    "# Given a number x, the task is to print the numbers from x to 0 in decreasing order in a single line."
   ]
  },
  {
   "cell_type": "code",
   "execution_count": 39,
   "id": "3641c6a9",
   "metadata": {},
   "outputs": [
    {
     "name": "stdout",
     "output_type": "stream",
     "text": [
      "9 8 7 6 5 4 3 2 1 0 "
     ]
    }
   ],
   "source": [
    "def decreasingTable():\n",
    "    x=int(input('Enter a number: '))\n",
    "    while x>0:\n",
    "        x=x-1\n",
    "        print(x,end=' ')\n",
    "\n",
    "decreasingTable()"
   ]
  },
  {
   "cell_type": "code",
   "execution_count": 40,
   "id": "e32e99b4",
   "metadata": {},
   "outputs": [
    {
     "data": {
      "text/plain": [
       "[5, 4, 3, 2, 1, 0]"
      ]
     },
     "execution_count": 40,
     "metadata": {},
     "output_type": "execute_result"
    }
   ],
   "source": [
    "def decreasingTable():\n",
    "    x=int(input('Enter a number: '))\n",
    "    l=[]\n",
    "    while x>0:\n",
    "        x=x-1\n",
    "        l.append(x)\n",
    "    return l    \n",
    "\n",
    "decreasingTable()"
   ]
  },
  {
   "cell_type": "code",
   "execution_count": 42,
   "id": "8fcb8a70",
   "metadata": {},
   "outputs": [],
   "source": [
    "# Given a positive integer x, the task is to print the numbers from 1 to x in the order as 12, 22, 32, 42, 52, ... (in increasing order)."
   ]
  },
  {
   "cell_type": "code",
   "execution_count": 45,
   "id": "0bb1b3cb",
   "metadata": {},
   "outputs": [
    {
     "name": "stdout",
     "output_type": "stream",
     "text": [
      "[1, 4, 9, 16, 25, 36, 49, 64, 81, 100]\n"
     ]
    }
   ],
   "source": [
    "def squareNum():\n",
    "    x=int(input('Enter a number: '))\n",
    "    i=0\n",
    "    l=[]\n",
    "    while i<x:\n",
    "        i=i+1\n",
    "        l.append(i**2)\n",
    "    return l\n",
    "\n",
    "print(squareNum())\n",
    "\n",
    "\n"
   ]
  },
  {
   "cell_type": "code",
   "execution_count": 46,
   "id": "690bf878",
   "metadata": {},
   "outputs": [],
   "source": [
    "# You are given a number n. The number n can be negative or positive. If n is negative, print numbers from n to 0 by adding 1 to n in the neg function. If positive, print numbers from n-1 to 0 by subtracting 1 from n in the pos function.\n",
    "\n",
    "# Note:- You don't have to return anything, you just have to print the array."
   ]
  },
  {
   "cell_type": "code",
   "execution_count": null,
   "id": "f4a7d1da",
   "metadata": {},
   "outputs": [
    {
     "name": "stdout",
     "output_type": "stream",
     "text": [
      "[9, 8, 7, 6, 5, 4, 3, 2, 1, 0]\n"
     ]
    }
   ],
   "source": [
    "def pos():\n",
    "    n=int(input())\n",
    "    l=[]\n",
    "    for i in range(n):\n",
    "        n=n-1\n",
    "        l.append(n)\n",
    "    return l\n",
    "\n",
    "print(pos())\n",
    "\n",
    "\n"
   ]
  },
  {
   "cell_type": "code",
   "execution_count": 52,
   "id": "57e4e4a3",
   "metadata": {},
   "outputs": [
    {
     "name": "stdout",
     "output_type": "stream",
     "text": [
      "[-8, -7, -6, -5, -4, -3, -2, -1, 0]\n"
     ]
    }
   ],
   "source": [
    "def neg():\n",
    "    n=int(input())\n",
    "    l=[]\n",
    "    for i in range(-n):\n",
    "        n=n+1\n",
    "        l.append(n)\n",
    "    return l\n",
    "\n",
    "print(neg())"
   ]
  },
  {
   "cell_type": "code",
   "execution_count": null,
   "id": "245e5f90",
   "metadata": {},
   "outputs": [],
   "source": []
  }
 ],
 "metadata": {
  "kernelspec": {
   "display_name": "base",
   "language": "python",
   "name": "python3"
  },
  "language_info": {
   "codemirror_mode": {
    "name": "ipython",
    "version": 3
   },
   "file_extension": ".py",
   "mimetype": "text/x-python",
   "name": "python",
   "nbconvert_exporter": "python",
   "pygments_lexer": "ipython3",
   "version": "3.11.4"
  }
 },
 "nbformat": 4,
 "nbformat_minor": 5
}
